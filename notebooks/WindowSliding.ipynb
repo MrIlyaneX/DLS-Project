{
 "cells": [
  {
   "cell_type": "markdown",
   "metadata": {},
   "source": [
    "### Sliding Mirroring technique for creating a dataset"
   ]
  },
  {
   "cell_type": "code",
   "execution_count": null,
   "metadata": {},
   "outputs": [],
   "source": [
    "import cv2\n",
    "import os\n",
    "from tqdm import tqdm\n",
    "from PIL import Image\n",
    "\n",
    "global_component_counter = 0\n",
    "components_list = []\n",
    "\n",
    "# Function implements sliding window technique\n",
    "def sliding_window(image, step_size, window_size):\n",
    "    for y in range(0, image.shape[0] - window_size[1] + 1, step_size):\n",
    "        for x in range(0, image.shape[1] - window_size[0] + 1, step_size):\n",
    "            yield (x, y, image[y:y + window_size[1], x:x + window_size[0]])\n",
    "\n",
    "# Function to save image components as PIL images and store in array\n",
    "def save_components(image_path, window_size, step_size):\n",
    "    global global_component_counter\n",
    "    image = cv2.imread(image_path)\n",
    "    if image is None:\n",
    "        print(f\"No image/s in {image_path}\")\n",
    "        return\n",
    "    components = []\n",
    "\n",
    "    # Slide the window and save components\n",
    "    for (x, y, window) in sliding_window(image, step_size, window_size):\n",
    "        pil_image = Image.fromarray(cv2.cvtColor(window, cv2.COLOR_BGR2RGB))\n",
    "        components.append(pil_image)\n",
    "        global_component_counter += 1\n",
    "\n",
    "    return components\n",
    "\n",
    "\n",
    "def process_images_folder(input_folder, window_size, step_size):\n",
    "    global global_component_counter\n",
    "    global components_list\n",
    "\n",
    "    for filename in os.listdir(input_folder):\n",
    "        if filename.lower().endswith('.jpg'):\n",
    "            input_image_path = os.path.join(input_folder, filename)\n",
    "\n",
    "            # Save components\n",
    "            components = save_components(\n",
    "                input_image_path, window_size, step_size)\n",
    "            components_list.extend(components)\n",
    "\n",
    "\n",
    "input_folder = 'dataset/train/images/'\n",
    "window_size = (300, 300)\n",
    "step_size = 270\n",
    "\n",
    "process_images_folder(input_folder, window_size, step_size)\n",
    "\n",
    "print(f\"Total components in PIL array: {len(components_list)}\")"
   ]
  }
 ],
 "metadata": {
  "language_info": {
   "name": "python"
  }
 },
 "nbformat": 4,
 "nbformat_minor": 2
}
